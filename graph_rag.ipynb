{
  "cells": [
    {
      "cell_type": "code",
      "execution_count": 15,
      "metadata": {
        "id": "PKFWUJCsLyuV"
      },
      "outputs": [],
      "source": [
        "!pip install --upgrade --quiet  langchain langchain-community langchain-groq neo4j langchain_experimental"
      ]
    },
    {
      "cell_type": "code",
      "execution_count": 15,
      "metadata": {
        "id": "8W0RoqH9Rbd0"
      },
      "outputs": [],
      "source": []
    },
    {
      "cell_type": "code",
      "execution_count": 16,
      "metadata": {
        "id": "w7v15x1MLyuX"
      },
      "outputs": [],
      "source": [
        "## Graphdb configuration\n",
        "NEO4J_URI=\"\"\n",
        "NEO4J_USERNAME=\"neo4j\"\n",
        "NEO4J_PASSWORD=\"\""
      ]
    },
    {
      "cell_type": "code",
      "execution_count": 17,
      "metadata": {
        "id": "kSRkN9r6LyuY"
      },
      "outputs": [],
      "source": [
        "import os\n",
        "os.environ[\"NEO4J_URI\"]=NEO4J_URI\n",
        "os.environ[\"NEO4J_USERNAME\"]=NEO4J_USERNAME\n",
        "os.environ[\"NEO4J_PASSWORD\"]=NEO4J_PASSWORD"
      ]
    },
    {
      "cell_type": "code",
      "execution_count": 18,
      "metadata": {
        "id": "RuzZo1h2LyuY"
      },
      "outputs": [],
      "source": [
        "from langchain_community.graphs import Neo4jGraph\n",
        "graph=Neo4jGraph(\n",
        "    url=NEO4J_URI,\n",
        "    username=NEO4J_USERNAME,\n",
        "    password=NEO4J_PASSWORD,\n",
        ")"
      ]
    },
    {
      "cell_type": "code",
      "execution_count": 19,
      "metadata": {
        "id": "Y52msayTLyua"
      },
      "outputs": [],
      "source": [
        "groq_api_key=\"\""
      ]
    },
    {
      "cell_type": "code",
      "execution_count": 20,
      "metadata": {
        "colab": {
          "base_uri": "https://localhost:8080/"
        },
        "id": "1DaUOUrOLyua",
        "outputId": "a0b42b39-5a8f-4cd5-d9cf-fa9593984c30"
      },
      "outputs": [
        {
          "name": "stdout",
          "output_type": "stream",
          "text": [
            "Nodes:[Node(id='Mr. Dursley', type='Person'), Node(id='Mrs. Dursley', type='Person'), Node(id='Dudley Dursley', type='Person'), Node(id='Mrs. Potter', type='Person'), Node(id='Mr. Potter', type='Person')]\n",
            "Relationships:[Relationship(source=Node(id='Mr. Dursley', type='Person'), target=Node(id='Mrs. Dursley', type='Person'), type='SPOUSE'), Relationship(source=Node(id='Mr. Dursley', type='Person'), target=Node(id='Dudley Dursley', type='Person'), type='PARENT'), Relationship(source=Node(id='Mrs. Dursley', type='Person'), target=Node(id='Dudley Dursley', type='Person'), type='PARENT'), Relationship(source=Node(id='Mrs. Dursley', type='Person'), target=Node(id='Mrs. Potter', type='Person'), type='SISTER'), Relationship(source=Node(id='Mrs. Potter', type='Person'), target=Node(id='Mr. Potter', type='Person'), type='SPOUSE')]\n"
          ]
        }
      ],
      "source": [
        "from langchain_groq import ChatGroq\n",
        "from langchain_experimental.graph_transformers import LLMGraphTransformer\n",
        "llm=ChatGroq(groq_api_key=groq_api_key,model_name=\"llama-3.1-70b-versatile\")\n",
        "\n",
        "#initializing the LLMTransformer model\n",
        "llm_transformer = LLMGraphTransformer(llm=llm)\n",
        "\n",
        "#transforming documents\n",
        "from langchain_core.documents import Document\n",
        "\n",
        "text = \"\"\"\n",
        "Mr. and Mrs. Dursley, of number four, Privet Drive, were proud to say\n",
        "that they were perfectly normal, thank you very much. They were the last\n",
        "people you'd expect to be involved in anything strange or mysterious,\n",
        "because they just didn't hold with such nonsense.\n",
        "Mr. Dursley was the director of a firm called Grunnings, which made\n",
        "drills. He was a big, beefy man with hardly any neck, although he did\n",
        "have a very large mustache. Mrs. Dursley was thin and blonde and had\n",
        "nearly twice the usual amount of neck, which came in very useful as she\n",
        "spent so much of her time craning over garden fences, spying on the\n",
        "neighbors. The Dursleys had a small son called Dudley and in their\n",
        "opinion there was no finer boy anywhere.\n",
        "The Dursleys had everything they wanted, but they also had a secret, and\n",
        "their greatest fear was that somebody would discover it. They didn't\n",
        "think they could bear it if anyone found out about the Potters. Mrs.\n",
        "Potter was Mrs. Dursley's sister, but they hadn't met for several years;\n",
        "in fact, Mrs. Dursley pretended she didn't have a sister, because her\n",
        "sister and her good-for-nothing husband were as unDursleyish as it was\n",
        "possible to be. The Dursleys shuddered to think what the neighbors would\n",
        "say if the Potters arrived in the street. The Dursleys knew that the\n",
        "Potters had a small son, too, but they had never even seen him. This boy\n",
        "was another good reason for keeping the Potters away; they didn't want\n",
        "Dudley mixing with a child like that.\n",
        "\"\"\"\n",
        "documents = [Document(page_content=text)]\n",
        "graph_documents = llm_transformer.convert_to_graph_documents(documents)\n",
        "print(f\"Nodes:{graph_documents[0].nodes}\")\n",
        "print(f\"Relationships:{graph_documents[0].relationships}\")"
      ]
    },
    {
      "cell_type": "code",
      "execution_count": 21,
      "metadata": {
        "id": "D0lULZ5TN42n"
      },
      "outputs": [],
      "source": [
        "graph.add_graph_documents(\n",
        "  graph_documents,\n",
        "  baseEntityLabel=True,\n",
        "  include_source=True\n",
        ")"
      ]
    },
    {
      "cell_type": "code",
      "execution_count": 23,
      "metadata": {
        "colab": {
          "base_uri": "https://localhost:8080/"
        },
        "id": "QxTSGXezOShd",
        "outputId": "1e1da995-3273-4e87-9a76-ddc12e96fbe5"
      },
      "outputs": [
        {
          "name": "stdout",
          "output_type": "stream",
          "text": [
            "\n",
            "\n",
            "\u001b[1m> Entering new GraphCypherQAChain chain...\u001b[0m\n",
            "Generated Cypher:\n",
            "\u001b[32;1m\u001b[1;3mMATCH (p:Person {id: \"Mr. Dursley\"})-[:PARENT]->(parent:Person) RETURN parent.id\u001b[0m\n",
            "Full Context:\n",
            "\u001b[32;1m\u001b[1;3m[{'parent.id': 'Dudley'}, {'parent.id': 'Dudley Dursley'}]\u001b[0m\n",
            "\n",
            "\u001b[1m> Finished chain.\u001b[0m\n"
          ]
        },
        {
          "data": {
            "text/plain": [
              "{'query': 'Who is the parent of id: Mr. Dursley',\n",
              " 'result': 'Dudley is the parent of id: Mr. Dursley'}"
            ]
          },
          "execution_count": 23,
          "metadata": {},
          "output_type": "execute_result"
        }
      ],
      "source": [
        "from langchain.chains import GraphCypherQAChain\n",
        "\n",
        "chain = GraphCypherQAChain.from_llm(graph=graph, llm=llm, verbose=True)\n",
        "response = chain.invoke({\"query\": \"Who is the parent of id: Mr. Dursley\"})\n",
        "response"
      ]
    },
    {
      "cell_type": "code",
      "execution_count": null,
      "metadata": {
        "id": "v1UVlJeqQMK8"
      },
      "outputs": [],
      "source": []
    },
    {
      "cell_type": "markdown",
      "metadata": {},
      "source": [
        "**Using OpenAI**"
      ]
    },
    {
      "cell_type": "markdown",
      "metadata": {},
      "source": [
        "os.environ[\"NEO4J_URI\"] = os.getenv(\"NEO4J_URI\")\n",
        "os.environ[\"NEO4J_USERNAME\"] = \"neo4j\"\n",
        "os.environ[\"NEO4J_PASSWORD\"] = os.getenv(\"NEO4J_PASSWORD\")\n",
        "api_key = os.getenv(\"AZURE_OPENAI_API_KEY\")\n",
        "azure_endpoint = os.getenv(\"AZURE_OPENAI_ENDPOINT\")\n",
        "api_version = \"2023-07-01-preview\""
      ]
    },
    {
      "cell_type": "code",
      "execution_count": null,
      "metadata": {},
      "outputs": [],
      "source": [
        "llm = AzureChatOpenAI(\n",
        "    model=\"gpt-4\",\n",
        "    azure_deployment=\"gpt-4\",\n",
        "    api_key=api_key,\n",
        "    azure_endpoint=azure_endpoint,\n",
        "    openai_api_version=api_version,\n",
        ")"
      ]
    },
    {
      "cell_type": "code",
      "execution_count": null,
      "metadata": {},
      "outputs": [],
      "source": [
        "#initializing the LLMTransformer model\n",
        "llm_transformer = LLMGraphTransformer(llm=llm)\n",
        "\n",
        "#transforming documents\n",
        "from langchain_core.documents import Document\n",
        "\n",
        "text = \"\"\"\n",
        "Mr. and Mrs. Dursley, of number four, Privet Drive, were proud to say\n",
        "that they were perfectly normal, thank you very much. They were the last\n",
        "people you'd expect to be involved in anything strange or mysterious,\n",
        "because they just didn't hold with such nonsense.\n",
        "Mr. Dursley was the director of a firm called Grunnings, which made\n",
        "drills. He was a big, beefy man with hardly any neck, although he did\n",
        "have a very large mustache. Mrs. Dursley was thin and blonde and had\n",
        "nearly twice the usual amount of neck, which came in very useful as she\n",
        "spent so much of her time craning over garden fences, spying on the\n",
        "neighbors. The Dursleys had a small son called Dudley and in their\n",
        "opinion there was no finer boy anywhere.\n",
        "The Dursleys had everything they wanted, but they also had a secret, and\n",
        "their greatest fear was that somebody would discover it. They didn't\n",
        "think they could bear it if anyone found out about the Potters. Mrs.\n",
        "Potter was Mrs. Dursley's sister, but they hadn't met for several years;\n",
        "in fact, Mrs. Dursley pretended she didn't have a sister, because her\n",
        "sister and her good-for-nothing husband were as unDursleyish as it was\n",
        "possible to be. The Dursleys shuddered to think what the neighbors would\n",
        "say if the Potters arrived in the street. The Dursleys knew that the\n",
        "Potters had a small son, too, but they had never even seen him. This boy\n",
        "was another good reason for keeping the Potters away; they didn't want\n",
        "Dudley mixing with a child like that.\n",
        "\"\"\"\n",
        "documents = [Document(page_content=text)]\n",
        "graph_documents = llm_transformer.convert_to_graph_documents(documents)\n",
        "print(f\"Nodes:{graph_documents[0].nodes}\")\n",
        "print(f\"Relationships:{graph_documents[0].relationships}\")"
      ]
    },
    {
      "cell_type": "code",
      "execution_count": null,
      "metadata": {},
      "outputs": [],
      "source": [
        "graph.add_graph_documents(\n",
        "  graph_documents, \n",
        "  baseEntityLabel=True, \n",
        "  include_source=True\n",
        ")"
      ]
    },
    {
      "cell_type": "code",
      "execution_count": null,
      "metadata": {},
      "outputs": [],
      "source": [
        "from langchain_openai import AzureOpenAIEmbeddings\n",
        "\n",
        "embeddings = AzureOpenAIEmbeddings(\n",
        "    model=\"text-embedding-ada-002\",\n",
        "    api_key=api_key,\n",
        "    azure_endpoint=azure_endpoint,\n",
        "    openai_api_version=api_version,\n",
        ")"
      ]
    },
    {
      "cell_type": "code",
      "execution_count": null,
      "metadata": {},
      "outputs": [],
      "source": [
        "vector_index = Neo4jVector.from_existing_graph(\n",
        "    embeddings,\n",
        "    search_type=\"hybrid\",\n",
        "    node_label=\"Document\",\n",
        "    text_node_properties=[\"text\"],\n",
        "    embedding_node_property=\"embedding\"\n",
        ")"
      ]
    },
    {
      "cell_type": "code",
      "execution_count": null,
      "metadata": {},
      "outputs": [],
      "source": [
        "query = \"Who is Dudley?\"\n",
        "\n",
        "results = vector_index.similarity_search(query, k=1)\n",
        "print(results[0].page_content)"
      ]
    },
    {
      "cell_type": "code",
      "execution_count": null,
      "metadata": {},
      "outputs": [],
      "source": [
        "from langchain.chains import GraphCypherQAChain\n",
        "\n",
        "chain = GraphCypherQAChain.from_llm(graph=graph, llm=llm, verbose=True)\n",
        "response = chain.invoke({\"query\": \"What is Mr. Dursley's job?\"})\n",
        "response"
      ]
    },
    {
      "cell_type": "code",
      "execution_count": null,
      "metadata": {},
      "outputs": [],
      "source": [
        "from langchain.chains import RetrievalQA\n",
        "\n",
        "qa_chain = RetrievalQA.from_chain_type(\n",
        "    llm, retriever=vector_index.as_retriever()\n",
        ")\n",
        "\n",
        "result = qa_chain({\"query\": \"What is Mr. Dursley's job?\"})\n",
        "result[\"result\"]"
      ]
    }
  ],
  "metadata": {
    "colab": {
      "provenance": []
    },
    "kernelspec": {
      "display_name": "groq",
      "language": "python",
      "name": "python3"
    },
    "language_info": {
      "codemirror_mode": {
        "name": "ipython",
        "version": 3
      },
      "file_extension": ".py",
      "mimetype": "text/x-python",
      "name": "python",
      "nbconvert_exporter": "python",
      "pygments_lexer": "ipython3",
      "version": "3.11.0"
    }
  },
  "nbformat": 4,
  "nbformat_minor": 0
}
